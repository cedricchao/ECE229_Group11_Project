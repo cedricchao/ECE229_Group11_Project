{
 "cells": [
  {
   "cell_type": "code",
   "execution_count": 13,
   "metadata": {},
   "outputs": [],
   "source": [
    "import pandas as pd"
   ]
  },
  {
   "cell_type": "code",
   "execution_count": 24,
   "metadata": {},
   "outputs": [],
   "source": [
    "df = pd.read_csv('data/data.csv')"
   ]
  },
  {
   "cell_type": "code",
   "execution_count": 38,
   "metadata": {},
   "outputs": [],
   "source": [
    "def get_details(course,df):\n",
    "    if course not in set(df['course']):\n",
    "        return None\n",
    "    selected_course = df[df['course']==course]\n",
    "    total_eval = sum(selected_course['evals'])\n",
    "    recommend_course = sum(selected_course['evals']*selected_course['rcmnd_class'])/total_eval*4\n",
    "    rcmnd_instr = sum(selected_course['evals']*selected_course['rcmnd_instr'])/total_eval*4\n",
    "    time = sum(selected_course['evals']*selected_course['time'])/total_eval/10*4\n",
    "    gpa_expected = sum(selected_course['evals']*selected_course['gpa_expected'])/total_eval\n",
    "    gpa_actual = sum(selected_course['evals']*selected_course['gpa_actual'])/total_eval\n",
    "    return [recommend_course,rcmnd_instr,time,gpa_expected,gpa_actual]"
   ]
  },
  {
   "cell_type": "code",
   "execution_count": 20,
   "metadata": {},
   "outputs": [
    {
     "data": {
      "text/plain": [
       "[0.8077710843373492,\n",
       " 0.7309518072289156,\n",
       " 9.965301204819276,\n",
       " 3.0295180722891564,\n",
       " 3.0873493975903616]"
      ]
     },
     "execution_count": 20,
     "metadata": {},
     "output_type": "execute_result"
    }
   ],
   "source": [
    "get_details('ECE 175A',df)"
   ]
  },
  {
   "cell_type": "code",
   "execution_count": 33,
   "metadata": {},
   "outputs": [
    {
     "name": "stderr",
     "output_type": "stream",
     "text": [
      "/home/sumukh/miniconda3/envs/ece229/lib/python3.9/site-packages/plotly/express/_core.py:271: FutureWarning:\n",
      "\n",
      "The frame.append method is deprecated and will be removed from pandas in a future version. Use pandas.concat instead.\n",
      "\n"
     ]
    },
    {
     "data": {
      "application/vnd.plotly.v1+json": {
       "config": {
        "plotlyServerURL": "https://plot.ly"
       },
       "data": [
        {
         "hovertemplate": "r=%{r}<br>theta=%{theta}<extra></extra>",
         "legendgroup": "",
         "line": {
          "color": "#636efa",
          "dash": "solid"
         },
         "marker": {
          "symbol": "circle"
         },
         "mode": "lines",
         "name": "",
         "r": [
          3.231084337349397,
          2.9238072289156625,
          2.491325301204819,
          3.0295180722891564,
          3.0873493975903616,
          3.231084337349397
         ],
         "showlegend": false,
         "subplot": "polar",
         "theta": [
          "Recommend Course",
          "Rcmnd Instr",
          "Time",
          "GPA Expected",
          "GPA Actual",
          "Recommend Course"
         ],
         "type": "scatterpolar"
        }
       ],
       "layout": {
        "legend": {
         "tracegroupgap": 0
        },
        "margin": {
         "t": 60
        },
        "polar": {
         "angularaxis": {
          "direction": "clockwise",
          "rotation": 90
         },
         "domain": {
          "x": [
           0,
           1
          ],
          "y": [
           0,
           1
          ]
         }
        },
        "template": {
         "data": {
          "bar": [
           {
            "error_x": {
             "color": "#2a3f5f"
            },
            "error_y": {
             "color": "#2a3f5f"
            },
            "marker": {
             "line": {
              "color": "#E5ECF6",
              "width": 0.5
             },
             "pattern": {
              "fillmode": "overlay",
              "size": 10,
              "solidity": 0.2
             }
            },
            "type": "bar"
           }
          ],
          "barpolar": [
           {
            "marker": {
             "line": {
              "color": "#E5ECF6",
              "width": 0.5
             },
             "pattern": {
              "fillmode": "overlay",
              "size": 10,
              "solidity": 0.2
             }
            },
            "type": "barpolar"
           }
          ],
          "carpet": [
           {
            "aaxis": {
             "endlinecolor": "#2a3f5f",
             "gridcolor": "white",
             "linecolor": "white",
             "minorgridcolor": "white",
             "startlinecolor": "#2a3f5f"
            },
            "baxis": {
             "endlinecolor": "#2a3f5f",
             "gridcolor": "white",
             "linecolor": "white",
             "minorgridcolor": "white",
             "startlinecolor": "#2a3f5f"
            },
            "type": "carpet"
           }
          ],
          "choropleth": [
           {
            "colorbar": {
             "outlinewidth": 0,
             "ticks": ""
            },
            "type": "choropleth"
           }
          ],
          "contour": [
           {
            "colorbar": {
             "outlinewidth": 0,
             "ticks": ""
            },
            "colorscale": [
             [
              0,
              "#0d0887"
             ],
             [
              0.1111111111111111,
              "#46039f"
             ],
             [
              0.2222222222222222,
              "#7201a8"
             ],
             [
              0.3333333333333333,
              "#9c179e"
             ],
             [
              0.4444444444444444,
              "#bd3786"
             ],
             [
              0.5555555555555556,
              "#d8576b"
             ],
             [
              0.6666666666666666,
              "#ed7953"
             ],
             [
              0.7777777777777778,
              "#fb9f3a"
             ],
             [
              0.8888888888888888,
              "#fdca26"
             ],
             [
              1,
              "#f0f921"
             ]
            ],
            "type": "contour"
           }
          ],
          "contourcarpet": [
           {
            "colorbar": {
             "outlinewidth": 0,
             "ticks": ""
            },
            "type": "contourcarpet"
           }
          ],
          "heatmap": [
           {
            "colorbar": {
             "outlinewidth": 0,
             "ticks": ""
            },
            "colorscale": [
             [
              0,
              "#0d0887"
             ],
             [
              0.1111111111111111,
              "#46039f"
             ],
             [
              0.2222222222222222,
              "#7201a8"
             ],
             [
              0.3333333333333333,
              "#9c179e"
             ],
             [
              0.4444444444444444,
              "#bd3786"
             ],
             [
              0.5555555555555556,
              "#d8576b"
             ],
             [
              0.6666666666666666,
              "#ed7953"
             ],
             [
              0.7777777777777778,
              "#fb9f3a"
             ],
             [
              0.8888888888888888,
              "#fdca26"
             ],
             [
              1,
              "#f0f921"
             ]
            ],
            "type": "heatmap"
           }
          ],
          "heatmapgl": [
           {
            "colorbar": {
             "outlinewidth": 0,
             "ticks": ""
            },
            "colorscale": [
             [
              0,
              "#0d0887"
             ],
             [
              0.1111111111111111,
              "#46039f"
             ],
             [
              0.2222222222222222,
              "#7201a8"
             ],
             [
              0.3333333333333333,
              "#9c179e"
             ],
             [
              0.4444444444444444,
              "#bd3786"
             ],
             [
              0.5555555555555556,
              "#d8576b"
             ],
             [
              0.6666666666666666,
              "#ed7953"
             ],
             [
              0.7777777777777778,
              "#fb9f3a"
             ],
             [
              0.8888888888888888,
              "#fdca26"
             ],
             [
              1,
              "#f0f921"
             ]
            ],
            "type": "heatmapgl"
           }
          ],
          "histogram": [
           {
            "marker": {
             "pattern": {
              "fillmode": "overlay",
              "size": 10,
              "solidity": 0.2
             }
            },
            "type": "histogram"
           }
          ],
          "histogram2d": [
           {
            "colorbar": {
             "outlinewidth": 0,
             "ticks": ""
            },
            "colorscale": [
             [
              0,
              "#0d0887"
             ],
             [
              0.1111111111111111,
              "#46039f"
             ],
             [
              0.2222222222222222,
              "#7201a8"
             ],
             [
              0.3333333333333333,
              "#9c179e"
             ],
             [
              0.4444444444444444,
              "#bd3786"
             ],
             [
              0.5555555555555556,
              "#d8576b"
             ],
             [
              0.6666666666666666,
              "#ed7953"
             ],
             [
              0.7777777777777778,
              "#fb9f3a"
             ],
             [
              0.8888888888888888,
              "#fdca26"
             ],
             [
              1,
              "#f0f921"
             ]
            ],
            "type": "histogram2d"
           }
          ],
          "histogram2dcontour": [
           {
            "colorbar": {
             "outlinewidth": 0,
             "ticks": ""
            },
            "colorscale": [
             [
              0,
              "#0d0887"
             ],
             [
              0.1111111111111111,
              "#46039f"
             ],
             [
              0.2222222222222222,
              "#7201a8"
             ],
             [
              0.3333333333333333,
              "#9c179e"
             ],
             [
              0.4444444444444444,
              "#bd3786"
             ],
             [
              0.5555555555555556,
              "#d8576b"
             ],
             [
              0.6666666666666666,
              "#ed7953"
             ],
             [
              0.7777777777777778,
              "#fb9f3a"
             ],
             [
              0.8888888888888888,
              "#fdca26"
             ],
             [
              1,
              "#f0f921"
             ]
            ],
            "type": "histogram2dcontour"
           }
          ],
          "mesh3d": [
           {
            "colorbar": {
             "outlinewidth": 0,
             "ticks": ""
            },
            "type": "mesh3d"
           }
          ],
          "parcoords": [
           {
            "line": {
             "colorbar": {
              "outlinewidth": 0,
              "ticks": ""
             }
            },
            "type": "parcoords"
           }
          ],
          "pie": [
           {
            "automargin": true,
            "type": "pie"
           }
          ],
          "scatter": [
           {
            "fillpattern": {
             "fillmode": "overlay",
             "size": 10,
             "solidity": 0.2
            },
            "type": "scatter"
           }
          ],
          "scatter3d": [
           {
            "line": {
             "colorbar": {
              "outlinewidth": 0,
              "ticks": ""
             }
            },
            "marker": {
             "colorbar": {
              "outlinewidth": 0,
              "ticks": ""
             }
            },
            "type": "scatter3d"
           }
          ],
          "scattercarpet": [
           {
            "marker": {
             "colorbar": {
              "outlinewidth": 0,
              "ticks": ""
             }
            },
            "type": "scattercarpet"
           }
          ],
          "scattergeo": [
           {
            "marker": {
             "colorbar": {
              "outlinewidth": 0,
              "ticks": ""
             }
            },
            "type": "scattergeo"
           }
          ],
          "scattergl": [
           {
            "marker": {
             "colorbar": {
              "outlinewidth": 0,
              "ticks": ""
             }
            },
            "type": "scattergl"
           }
          ],
          "scattermapbox": [
           {
            "marker": {
             "colorbar": {
              "outlinewidth": 0,
              "ticks": ""
             }
            },
            "type": "scattermapbox"
           }
          ],
          "scatterpolar": [
           {
            "marker": {
             "colorbar": {
              "outlinewidth": 0,
              "ticks": ""
             }
            },
            "type": "scatterpolar"
           }
          ],
          "scatterpolargl": [
           {
            "marker": {
             "colorbar": {
              "outlinewidth": 0,
              "ticks": ""
             }
            },
            "type": "scatterpolargl"
           }
          ],
          "scatterternary": [
           {
            "marker": {
             "colorbar": {
              "outlinewidth": 0,
              "ticks": ""
             }
            },
            "type": "scatterternary"
           }
          ],
          "surface": [
           {
            "colorbar": {
             "outlinewidth": 0,
             "ticks": ""
            },
            "colorscale": [
             [
              0,
              "#0d0887"
             ],
             [
              0.1111111111111111,
              "#46039f"
             ],
             [
              0.2222222222222222,
              "#7201a8"
             ],
             [
              0.3333333333333333,
              "#9c179e"
             ],
             [
              0.4444444444444444,
              "#bd3786"
             ],
             [
              0.5555555555555556,
              "#d8576b"
             ],
             [
              0.6666666666666666,
              "#ed7953"
             ],
             [
              0.7777777777777778,
              "#fb9f3a"
             ],
             [
              0.8888888888888888,
              "#fdca26"
             ],
             [
              1,
              "#f0f921"
             ]
            ],
            "type": "surface"
           }
          ],
          "table": [
           {
            "cells": {
             "fill": {
              "color": "#EBF0F8"
             },
             "line": {
              "color": "white"
             }
            },
            "header": {
             "fill": {
              "color": "#C8D4E3"
             },
             "line": {
              "color": "white"
             }
            },
            "type": "table"
           }
          ]
         },
         "layout": {
          "annotationdefaults": {
           "arrowcolor": "#2a3f5f",
           "arrowhead": 0,
           "arrowwidth": 1
          },
          "autotypenumbers": "strict",
          "coloraxis": {
           "colorbar": {
            "outlinewidth": 0,
            "ticks": ""
           }
          },
          "colorscale": {
           "diverging": [
            [
             0,
             "#8e0152"
            ],
            [
             0.1,
             "#c51b7d"
            ],
            [
             0.2,
             "#de77ae"
            ],
            [
             0.3,
             "#f1b6da"
            ],
            [
             0.4,
             "#fde0ef"
            ],
            [
             0.5,
             "#f7f7f7"
            ],
            [
             0.6,
             "#e6f5d0"
            ],
            [
             0.7,
             "#b8e186"
            ],
            [
             0.8,
             "#7fbc41"
            ],
            [
             0.9,
             "#4d9221"
            ],
            [
             1,
             "#276419"
            ]
           ],
           "sequential": [
            [
             0,
             "#0d0887"
            ],
            [
             0.1111111111111111,
             "#46039f"
            ],
            [
             0.2222222222222222,
             "#7201a8"
            ],
            [
             0.3333333333333333,
             "#9c179e"
            ],
            [
             0.4444444444444444,
             "#bd3786"
            ],
            [
             0.5555555555555556,
             "#d8576b"
            ],
            [
             0.6666666666666666,
             "#ed7953"
            ],
            [
             0.7777777777777778,
             "#fb9f3a"
            ],
            [
             0.8888888888888888,
             "#fdca26"
            ],
            [
             1,
             "#f0f921"
            ]
           ],
           "sequentialminus": [
            [
             0,
             "#0d0887"
            ],
            [
             0.1111111111111111,
             "#46039f"
            ],
            [
             0.2222222222222222,
             "#7201a8"
            ],
            [
             0.3333333333333333,
             "#9c179e"
            ],
            [
             0.4444444444444444,
             "#bd3786"
            ],
            [
             0.5555555555555556,
             "#d8576b"
            ],
            [
             0.6666666666666666,
             "#ed7953"
            ],
            [
             0.7777777777777778,
             "#fb9f3a"
            ],
            [
             0.8888888888888888,
             "#fdca26"
            ],
            [
             1,
             "#f0f921"
            ]
           ]
          },
          "colorway": [
           "#636efa",
           "#EF553B",
           "#00cc96",
           "#ab63fa",
           "#FFA15A",
           "#19d3f3",
           "#FF6692",
           "#B6E880",
           "#FF97FF",
           "#FECB52"
          ],
          "font": {
           "color": "#2a3f5f"
          },
          "geo": {
           "bgcolor": "white",
           "lakecolor": "white",
           "landcolor": "#E5ECF6",
           "showlakes": true,
           "showland": true,
           "subunitcolor": "white"
          },
          "hoverlabel": {
           "align": "left"
          },
          "hovermode": "closest",
          "mapbox": {
           "style": "light"
          },
          "paper_bgcolor": "white",
          "plot_bgcolor": "#E5ECF6",
          "polar": {
           "angularaxis": {
            "gridcolor": "white",
            "linecolor": "white",
            "ticks": ""
           },
           "bgcolor": "#E5ECF6",
           "radialaxis": {
            "gridcolor": "white",
            "linecolor": "white",
            "ticks": ""
           }
          },
          "scene": {
           "xaxis": {
            "backgroundcolor": "#E5ECF6",
            "gridcolor": "white",
            "gridwidth": 2,
            "linecolor": "white",
            "showbackground": true,
            "ticks": "",
            "zerolinecolor": "white"
           },
           "yaxis": {
            "backgroundcolor": "#E5ECF6",
            "gridcolor": "white",
            "gridwidth": 2,
            "linecolor": "white",
            "showbackground": true,
            "ticks": "",
            "zerolinecolor": "white"
           },
           "zaxis": {
            "backgroundcolor": "#E5ECF6",
            "gridcolor": "white",
            "gridwidth": 2,
            "linecolor": "white",
            "showbackground": true,
            "ticks": "",
            "zerolinecolor": "white"
           }
          },
          "shapedefaults": {
           "line": {
            "color": "#2a3f5f"
           }
          },
          "ternary": {
           "aaxis": {
            "gridcolor": "white",
            "linecolor": "white",
            "ticks": ""
           },
           "baxis": {
            "gridcolor": "white",
            "linecolor": "white",
            "ticks": ""
           },
           "bgcolor": "#E5ECF6",
           "caxis": {
            "gridcolor": "white",
            "linecolor": "white",
            "ticks": ""
           }
          },
          "title": {
           "x": 0.05
          },
          "xaxis": {
           "automargin": true,
           "gridcolor": "white",
           "linecolor": "white",
           "ticks": "",
           "title": {
            "standoff": 15
           },
           "zerolinecolor": "white",
           "zerolinewidth": 2
          },
          "yaxis": {
           "automargin": true,
           "gridcolor": "white",
           "linecolor": "white",
           "ticks": "",
           "title": {
            "standoff": 15
           },
           "zerolinecolor": "white",
           "zerolinewidth": 2
          }
         }
        }
       }
      }
     },
     "metadata": {},
     "output_type": "display_data"
    }
   ],
   "source": [
    "import plotly.express as px\n",
    "import pandas as pd\n",
    "df1 = pd.DataFrame(dict(\n",
    "    r=get_details('ECE 175A',df),\n",
    "    theta=['Recommend Course','Rcmnd Instr','Time',\n",
    "           'GPA Expected', 'GPA Actual']))\n",
    "fig = px.line_polar(df1, r='r', theta='theta', line_close=True)\n",
    "fig.show()"
   ]
  },
  {
   "cell_type": "code",
   "execution_count": 39,
   "metadata": {},
   "outputs": [
    {
     "data": {
      "application/vnd.plotly.v1+json": {
       "config": {
        "plotlyServerURL": "https://plot.ly"
       },
       "data": [
        {
         "fill": "toself",
         "name": "ECE 175A",
         "r": [
          3.231084337349397,
          2.9238072289156625,
          3.9861204819277107,
          3.0295180722891564,
          3.0873493975903616
         ],
         "theta": [
          "Recommend Course",
          "Rcmnd Instr",
          "Time",
          "GPA Expected",
          "GPA Actual"
         ],
         "type": "scatterpolar"
        },
        {
         "fill": "toself",
         "name": "ECE 174",
         "r": [
          3.697203342618384,
          3.774150417827298,
          2.7900055710306404,
          3.8315320334261838,
          3.7370473537604454
         ],
         "theta": [
          "Recommend Course",
          "Rcmnd Instr",
          "Time",
          "GPA Expected",
          "GPA Actual"
         ],
         "type": "scatterpolar"
        }
       ],
       "layout": {
        "polar": {
         "radialaxis": {
          "range": [
           0,
           5
          ],
          "visible": true
         }
        },
        "showlegend": false,
        "template": {
         "data": {
          "bar": [
           {
            "error_x": {
             "color": "#2a3f5f"
            },
            "error_y": {
             "color": "#2a3f5f"
            },
            "marker": {
             "line": {
              "color": "#E5ECF6",
              "width": 0.5
             },
             "pattern": {
              "fillmode": "overlay",
              "size": 10,
              "solidity": 0.2
             }
            },
            "type": "bar"
           }
          ],
          "barpolar": [
           {
            "marker": {
             "line": {
              "color": "#E5ECF6",
              "width": 0.5
             },
             "pattern": {
              "fillmode": "overlay",
              "size": 10,
              "solidity": 0.2
             }
            },
            "type": "barpolar"
           }
          ],
          "carpet": [
           {
            "aaxis": {
             "endlinecolor": "#2a3f5f",
             "gridcolor": "white",
             "linecolor": "white",
             "minorgridcolor": "white",
             "startlinecolor": "#2a3f5f"
            },
            "baxis": {
             "endlinecolor": "#2a3f5f",
             "gridcolor": "white",
             "linecolor": "white",
             "minorgridcolor": "white",
             "startlinecolor": "#2a3f5f"
            },
            "type": "carpet"
           }
          ],
          "choropleth": [
           {
            "colorbar": {
             "outlinewidth": 0,
             "ticks": ""
            },
            "type": "choropleth"
           }
          ],
          "contour": [
           {
            "colorbar": {
             "outlinewidth": 0,
             "ticks": ""
            },
            "colorscale": [
             [
              0,
              "#0d0887"
             ],
             [
              0.1111111111111111,
              "#46039f"
             ],
             [
              0.2222222222222222,
              "#7201a8"
             ],
             [
              0.3333333333333333,
              "#9c179e"
             ],
             [
              0.4444444444444444,
              "#bd3786"
             ],
             [
              0.5555555555555556,
              "#d8576b"
             ],
             [
              0.6666666666666666,
              "#ed7953"
             ],
             [
              0.7777777777777778,
              "#fb9f3a"
             ],
             [
              0.8888888888888888,
              "#fdca26"
             ],
             [
              1,
              "#f0f921"
             ]
            ],
            "type": "contour"
           }
          ],
          "contourcarpet": [
           {
            "colorbar": {
             "outlinewidth": 0,
             "ticks": ""
            },
            "type": "contourcarpet"
           }
          ],
          "heatmap": [
           {
            "colorbar": {
             "outlinewidth": 0,
             "ticks": ""
            },
            "colorscale": [
             [
              0,
              "#0d0887"
             ],
             [
              0.1111111111111111,
              "#46039f"
             ],
             [
              0.2222222222222222,
              "#7201a8"
             ],
             [
              0.3333333333333333,
              "#9c179e"
             ],
             [
              0.4444444444444444,
              "#bd3786"
             ],
             [
              0.5555555555555556,
              "#d8576b"
             ],
             [
              0.6666666666666666,
              "#ed7953"
             ],
             [
              0.7777777777777778,
              "#fb9f3a"
             ],
             [
              0.8888888888888888,
              "#fdca26"
             ],
             [
              1,
              "#f0f921"
             ]
            ],
            "type": "heatmap"
           }
          ],
          "heatmapgl": [
           {
            "colorbar": {
             "outlinewidth": 0,
             "ticks": ""
            },
            "colorscale": [
             [
              0,
              "#0d0887"
             ],
             [
              0.1111111111111111,
              "#46039f"
             ],
             [
              0.2222222222222222,
              "#7201a8"
             ],
             [
              0.3333333333333333,
              "#9c179e"
             ],
             [
              0.4444444444444444,
              "#bd3786"
             ],
             [
              0.5555555555555556,
              "#d8576b"
             ],
             [
              0.6666666666666666,
              "#ed7953"
             ],
             [
              0.7777777777777778,
              "#fb9f3a"
             ],
             [
              0.8888888888888888,
              "#fdca26"
             ],
             [
              1,
              "#f0f921"
             ]
            ],
            "type": "heatmapgl"
           }
          ],
          "histogram": [
           {
            "marker": {
             "pattern": {
              "fillmode": "overlay",
              "size": 10,
              "solidity": 0.2
             }
            },
            "type": "histogram"
           }
          ],
          "histogram2d": [
           {
            "colorbar": {
             "outlinewidth": 0,
             "ticks": ""
            },
            "colorscale": [
             [
              0,
              "#0d0887"
             ],
             [
              0.1111111111111111,
              "#46039f"
             ],
             [
              0.2222222222222222,
              "#7201a8"
             ],
             [
              0.3333333333333333,
              "#9c179e"
             ],
             [
              0.4444444444444444,
              "#bd3786"
             ],
             [
              0.5555555555555556,
              "#d8576b"
             ],
             [
              0.6666666666666666,
              "#ed7953"
             ],
             [
              0.7777777777777778,
              "#fb9f3a"
             ],
             [
              0.8888888888888888,
              "#fdca26"
             ],
             [
              1,
              "#f0f921"
             ]
            ],
            "type": "histogram2d"
           }
          ],
          "histogram2dcontour": [
           {
            "colorbar": {
             "outlinewidth": 0,
             "ticks": ""
            },
            "colorscale": [
             [
              0,
              "#0d0887"
             ],
             [
              0.1111111111111111,
              "#46039f"
             ],
             [
              0.2222222222222222,
              "#7201a8"
             ],
             [
              0.3333333333333333,
              "#9c179e"
             ],
             [
              0.4444444444444444,
              "#bd3786"
             ],
             [
              0.5555555555555556,
              "#d8576b"
             ],
             [
              0.6666666666666666,
              "#ed7953"
             ],
             [
              0.7777777777777778,
              "#fb9f3a"
             ],
             [
              0.8888888888888888,
              "#fdca26"
             ],
             [
              1,
              "#f0f921"
             ]
            ],
            "type": "histogram2dcontour"
           }
          ],
          "mesh3d": [
           {
            "colorbar": {
             "outlinewidth": 0,
             "ticks": ""
            },
            "type": "mesh3d"
           }
          ],
          "parcoords": [
           {
            "line": {
             "colorbar": {
              "outlinewidth": 0,
              "ticks": ""
             }
            },
            "type": "parcoords"
           }
          ],
          "pie": [
           {
            "automargin": true,
            "type": "pie"
           }
          ],
          "scatter": [
           {
            "fillpattern": {
             "fillmode": "overlay",
             "size": 10,
             "solidity": 0.2
            },
            "type": "scatter"
           }
          ],
          "scatter3d": [
           {
            "line": {
             "colorbar": {
              "outlinewidth": 0,
              "ticks": ""
             }
            },
            "marker": {
             "colorbar": {
              "outlinewidth": 0,
              "ticks": ""
             }
            },
            "type": "scatter3d"
           }
          ],
          "scattercarpet": [
           {
            "marker": {
             "colorbar": {
              "outlinewidth": 0,
              "ticks": ""
             }
            },
            "type": "scattercarpet"
           }
          ],
          "scattergeo": [
           {
            "marker": {
             "colorbar": {
              "outlinewidth": 0,
              "ticks": ""
             }
            },
            "type": "scattergeo"
           }
          ],
          "scattergl": [
           {
            "marker": {
             "colorbar": {
              "outlinewidth": 0,
              "ticks": ""
             }
            },
            "type": "scattergl"
           }
          ],
          "scattermapbox": [
           {
            "marker": {
             "colorbar": {
              "outlinewidth": 0,
              "ticks": ""
             }
            },
            "type": "scattermapbox"
           }
          ],
          "scatterpolar": [
           {
            "marker": {
             "colorbar": {
              "outlinewidth": 0,
              "ticks": ""
             }
            },
            "type": "scatterpolar"
           }
          ],
          "scatterpolargl": [
           {
            "marker": {
             "colorbar": {
              "outlinewidth": 0,
              "ticks": ""
             }
            },
            "type": "scatterpolargl"
           }
          ],
          "scatterternary": [
           {
            "marker": {
             "colorbar": {
              "outlinewidth": 0,
              "ticks": ""
             }
            },
            "type": "scatterternary"
           }
          ],
          "surface": [
           {
            "colorbar": {
             "outlinewidth": 0,
             "ticks": ""
            },
            "colorscale": [
             [
              0,
              "#0d0887"
             ],
             [
              0.1111111111111111,
              "#46039f"
             ],
             [
              0.2222222222222222,
              "#7201a8"
             ],
             [
              0.3333333333333333,
              "#9c179e"
             ],
             [
              0.4444444444444444,
              "#bd3786"
             ],
             [
              0.5555555555555556,
              "#d8576b"
             ],
             [
              0.6666666666666666,
              "#ed7953"
             ],
             [
              0.7777777777777778,
              "#fb9f3a"
             ],
             [
              0.8888888888888888,
              "#fdca26"
             ],
             [
              1,
              "#f0f921"
             ]
            ],
            "type": "surface"
           }
          ],
          "table": [
           {
            "cells": {
             "fill": {
              "color": "#EBF0F8"
             },
             "line": {
              "color": "white"
             }
            },
            "header": {
             "fill": {
              "color": "#C8D4E3"
             },
             "line": {
              "color": "white"
             }
            },
            "type": "table"
           }
          ]
         },
         "layout": {
          "annotationdefaults": {
           "arrowcolor": "#2a3f5f",
           "arrowhead": 0,
           "arrowwidth": 1
          },
          "autotypenumbers": "strict",
          "coloraxis": {
           "colorbar": {
            "outlinewidth": 0,
            "ticks": ""
           }
          },
          "colorscale": {
           "diverging": [
            [
             0,
             "#8e0152"
            ],
            [
             0.1,
             "#c51b7d"
            ],
            [
             0.2,
             "#de77ae"
            ],
            [
             0.3,
             "#f1b6da"
            ],
            [
             0.4,
             "#fde0ef"
            ],
            [
             0.5,
             "#f7f7f7"
            ],
            [
             0.6,
             "#e6f5d0"
            ],
            [
             0.7,
             "#b8e186"
            ],
            [
             0.8,
             "#7fbc41"
            ],
            [
             0.9,
             "#4d9221"
            ],
            [
             1,
             "#276419"
            ]
           ],
           "sequential": [
            [
             0,
             "#0d0887"
            ],
            [
             0.1111111111111111,
             "#46039f"
            ],
            [
             0.2222222222222222,
             "#7201a8"
            ],
            [
             0.3333333333333333,
             "#9c179e"
            ],
            [
             0.4444444444444444,
             "#bd3786"
            ],
            [
             0.5555555555555556,
             "#d8576b"
            ],
            [
             0.6666666666666666,
             "#ed7953"
            ],
            [
             0.7777777777777778,
             "#fb9f3a"
            ],
            [
             0.8888888888888888,
             "#fdca26"
            ],
            [
             1,
             "#f0f921"
            ]
           ],
           "sequentialminus": [
            [
             0,
             "#0d0887"
            ],
            [
             0.1111111111111111,
             "#46039f"
            ],
            [
             0.2222222222222222,
             "#7201a8"
            ],
            [
             0.3333333333333333,
             "#9c179e"
            ],
            [
             0.4444444444444444,
             "#bd3786"
            ],
            [
             0.5555555555555556,
             "#d8576b"
            ],
            [
             0.6666666666666666,
             "#ed7953"
            ],
            [
             0.7777777777777778,
             "#fb9f3a"
            ],
            [
             0.8888888888888888,
             "#fdca26"
            ],
            [
             1,
             "#f0f921"
            ]
           ]
          },
          "colorway": [
           "#636efa",
           "#EF553B",
           "#00cc96",
           "#ab63fa",
           "#FFA15A",
           "#19d3f3",
           "#FF6692",
           "#B6E880",
           "#FF97FF",
           "#FECB52"
          ],
          "font": {
           "color": "#2a3f5f"
          },
          "geo": {
           "bgcolor": "white",
           "lakecolor": "white",
           "landcolor": "#E5ECF6",
           "showlakes": true,
           "showland": true,
           "subunitcolor": "white"
          },
          "hoverlabel": {
           "align": "left"
          },
          "hovermode": "closest",
          "mapbox": {
           "style": "light"
          },
          "paper_bgcolor": "white",
          "plot_bgcolor": "#E5ECF6",
          "polar": {
           "angularaxis": {
            "gridcolor": "white",
            "linecolor": "white",
            "ticks": ""
           },
           "bgcolor": "#E5ECF6",
           "radialaxis": {
            "gridcolor": "white",
            "linecolor": "white",
            "ticks": ""
           }
          },
          "scene": {
           "xaxis": {
            "backgroundcolor": "#E5ECF6",
            "gridcolor": "white",
            "gridwidth": 2,
            "linecolor": "white",
            "showbackground": true,
            "ticks": "",
            "zerolinecolor": "white"
           },
           "yaxis": {
            "backgroundcolor": "#E5ECF6",
            "gridcolor": "white",
            "gridwidth": 2,
            "linecolor": "white",
            "showbackground": true,
            "ticks": "",
            "zerolinecolor": "white"
           },
           "zaxis": {
            "backgroundcolor": "#E5ECF6",
            "gridcolor": "white",
            "gridwidth": 2,
            "linecolor": "white",
            "showbackground": true,
            "ticks": "",
            "zerolinecolor": "white"
           }
          },
          "shapedefaults": {
           "line": {
            "color": "#2a3f5f"
           }
          },
          "ternary": {
           "aaxis": {
            "gridcolor": "white",
            "linecolor": "white",
            "ticks": ""
           },
           "baxis": {
            "gridcolor": "white",
            "linecolor": "white",
            "ticks": ""
           },
           "bgcolor": "#E5ECF6",
           "caxis": {
            "gridcolor": "white",
            "linecolor": "white",
            "ticks": ""
           }
          },
          "title": {
           "x": 0.05
          },
          "xaxis": {
           "automargin": true,
           "gridcolor": "white",
           "linecolor": "white",
           "ticks": "",
           "title": {
            "standoff": 15
           },
           "zerolinecolor": "white",
           "zerolinewidth": 2
          },
          "yaxis": {
           "automargin": true,
           "gridcolor": "white",
           "linecolor": "white",
           "ticks": "",
           "title": {
            "standoff": 15
           },
           "zerolinecolor": "white",
           "zerolinewidth": 2
          }
         }
        }
       }
      }
     },
     "metadata": {},
     "output_type": "display_data"
    }
   ],
   "source": [
    "import plotly.graph_objects as go\n",
    "\n",
    "categories = ['Recommend Course','Rcmnd Instr','Time',\n",
    "           'GPA Expected', 'GPA Actual']\n",
    "\n",
    "fig = go.Figure()\n",
    "\n",
    "fig.add_trace(go.Scatterpolar(\n",
    "      r=get_details('ECE 175A',df),\n",
    "      theta=categories,\n",
    "      fill='toself',\n",
    "      name='ECE 175A'\n",
    "))\n",
    "fig.add_trace(go.Scatterpolar(\n",
    "      r=get_details('ECE 143',df),\n",
    "      theta=categories,\n",
    "      fill='toself',\n",
    "      name='ECE 174'\n",
    "))\n",
    "\n",
    "fig.update_layout(\n",
    "  polar=dict(\n",
    "    radialaxis=dict(\n",
    "      visible=True,\n",
    "      range=[0, 5]\n",
    "    )),\n",
    "  showlegend=False\n",
    ")\n",
    "\n",
    "fig.show()"
   ]
  },
  {
   "cell_type": "code",
   "execution_count": 42,
   "metadata": {},
   "outputs": [
    {
     "data": {
      "text/plain": [
       "{'PHYS 1A',\n",
       " 'LTWL 180GS',\n",
       " 'GLBH 111',\n",
       " 'MATH 194',\n",
       " 'HIUS 108A',\n",
       " 'GLBH 143',\n",
       " 'HDS 1',\n",
       " 'COMM 101K',\n",
       " 'POLI 145C',\n",
       " 'RELI 101',\n",
       " 'MUS 16',\n",
       " 'PHIL 33',\n",
       " 'PHIL 139',\n",
       " 'HIUS 130',\n",
       " 'CHEM 132',\n",
       " 'HINE 111',\n",
       " 'PSYC 114',\n",
       " 'ESYS 190B',\n",
       " 'BIPN 105',\n",
       " 'LTFR 116',\n",
       " 'VIS 124D',\n",
       " 'CHEM 142',\n",
       " 'POLI 171',\n",
       " 'PHYS 1AL',\n",
       " 'JAPN 20C',\n",
       " 'HIEA 144',\n",
       " 'MUS 1A',\n",
       " 'CHIN 20BD',\n",
       " 'PHYS 2DL',\n",
       " 'CSE 150A',\n",
       " 'SOCI 117',\n",
       " 'MUS 127',\n",
       " 'ETHN 115',\n",
       " 'CSE 30',\n",
       " 'MUS 7',\n",
       " 'BIMM 121',\n",
       " 'ETHN 153',\n",
       " 'MMW 12',\n",
       " 'LIHL 112P',\n",
       " 'SOCI 185',\n",
       " 'USP 100',\n",
       " 'ANBI 133',\n",
       " 'TDPW 104',\n",
       " 'MUS 120B',\n",
       " 'LTEN 113',\n",
       " 'ANAR 143',\n",
       " 'SIO 117',\n",
       " 'ECE 102',\n",
       " 'SOCI 133',\n",
       " 'ANSC 140',\n",
       " 'ECE 171A',\n",
       " 'ECE 128B',\n",
       " 'PSYC 116C',\n",
       " 'PHYS 110B',\n",
       " 'DSC 80',\n",
       " 'ECON 113',\n",
       " 'MGT 18GS',\n",
       " 'MAE 171A',\n",
       " 'COMM 174',\n",
       " 'MAE 140',\n",
       " 'ECE 101',\n",
       " 'VIS 100',\n",
       " 'LTRU 1B',\n",
       " 'CHEM 168',\n",
       " 'SIO 115',\n",
       " 'SIO 160',\n",
       " 'LTSP 2E',\n",
       " 'POLI 102L',\n",
       " 'BIEB 152',\n",
       " 'MAE 104',\n",
       " 'PHYS 160',\n",
       " 'HIEU 117GS',\n",
       " 'HISC 131',\n",
       " 'VIS 102',\n",
       " 'HDP 111',\n",
       " 'COGS 177',\n",
       " 'HIEU 128',\n",
       " 'POLI 104N',\n",
       " 'ECE 16',\n",
       " 'ETHN 168',\n",
       " 'MATH 18',\n",
       " 'LTSP 171',\n",
       " 'POLI 110C',\n",
       " 'SE 121A',\n",
       " 'COGS 118C',\n",
       " 'ETHN 143',\n",
       " 'ECON 132',\n",
       " 'HIEU 106',\n",
       " 'PHIL 15',\n",
       " 'POLI 104M',\n",
       " 'CHEM 114D',\n",
       " 'SE 143B',\n",
       " 'HDS 133',\n",
       " 'HIEA 131',\n",
       " 'HIEA 155',\n",
       " 'BILD 20',\n",
       " 'LTWR 148',\n",
       " 'POLI 110T',\n",
       " 'HIEU 144',\n",
       " 'SOCI 1',\n",
       " 'HIEU 121GS',\n",
       " 'MATH 105',\n",
       " 'ECE 123',\n",
       " 'LTKO 100',\n",
       " 'MGT 158',\n",
       " 'PHIL 123',\n",
       " 'POLI 126AA',\n",
       " 'EDS 130',\n",
       " 'LTWR 115',\n",
       " 'ECE 161C',\n",
       " 'AWP 2A',\n",
       " 'NANO 174',\n",
       " 'VIS 20',\n",
       " 'VIS 142',\n",
       " 'POLI 108',\n",
       " 'MUS 1B',\n",
       " 'USP 131',\n",
       " 'DSC 180A',\n",
       " 'HILA 102',\n",
       " 'USP 172',\n",
       " 'PSYC 110',\n",
       " 'COGS 169',\n",
       " 'CHEM 7LM',\n",
       " 'LTWL 172GS',\n",
       " 'COGS 107C',\n",
       " 'PHIL 31',\n",
       " 'BIEB 182',\n",
       " 'HIUS 150',\n",
       " 'POLI 104G',\n",
       " 'BIBC 102',\n",
       " 'LIGN 179',\n",
       " 'LTGM 2A',\n",
       " 'MATH 95',\n",
       " 'ECON 131',\n",
       " 'PSYC 155',\n",
       " 'FMPH 101',\n",
       " 'MATH 155A',\n",
       " 'LTWL 19A',\n",
       " 'PSYC 169',\n",
       " 'ETHN 100A',\n",
       " 'ECE 65',\n",
       " 'PSYC 187',\n",
       " 'DOC 1',\n",
       " 'COGS 143GS',\n",
       " 'COGS 18',\n",
       " 'HDP 175',\n",
       " 'POLI 120A',\n",
       " 'CHEM 173',\n",
       " 'HILA 132',\n",
       " 'HIAF 111',\n",
       " 'BIPN 146',\n",
       " 'PHYS 100A',\n",
       " 'USP 153',\n",
       " 'COMM 101',\n",
       " 'SIO 109',\n",
       " 'TDHT 107',\n",
       " 'JAPN 130C',\n",
       " 'TDMV 120',\n",
       " 'RELI 1',\n",
       " 'COMM 124A',\n",
       " 'BICD 145',\n",
       " 'LTRU 104A',\n",
       " 'LTWL 114',\n",
       " 'MAE 11',\n",
       " 'PHYS 9',\n",
       " 'VIS 155',\n",
       " 'MATH 184',\n",
       " 'MAE 40',\n",
       " 'EDS 119',\n",
       " 'HIUS 141',\n",
       " 'COMM 106G',\n",
       " 'CHEM 108',\n",
       " 'MATH 104B',\n",
       " 'SOCI 153',\n",
       " 'MAE 142',\n",
       " 'BIEB 135',\n",
       " 'TDGE 1',\n",
       " 'COGS 108',\n",
       " 'ECON 173B',\n",
       " 'COMM 181',\n",
       " 'NANO 175',\n",
       " 'ETHN 103',\n",
       " 'CHIN 10CD',\n",
       " 'SIO 20',\n",
       " 'HIEU 102A',\n",
       " 'HISC 106',\n",
       " 'ECE 158B',\n",
       " 'TDAC 1',\n",
       " 'HIUS 104',\n",
       " 'MGT 185',\n",
       " 'ANSC 105GS',\n",
       " 'MAE 156A',\n",
       " 'LIGN 17',\n",
       " 'SIO 124',\n",
       " 'COMM 134',\n",
       " 'MATH 20D',\n",
       " 'TDPR 6',\n",
       " 'ANTH 101',\n",
       " 'ECE 134',\n",
       " 'LIGN 4',\n",
       " 'ANSC 136',\n",
       " 'HDS 110',\n",
       " 'SE 115',\n",
       " 'POLI 120G',\n",
       " 'CHIN 20BN',\n",
       " 'HDP 133',\n",
       " 'HIEU 156',\n",
       " 'MAE 156B',\n",
       " 'BILD 1',\n",
       " 'HIEU 124GS',\n",
       " 'SOCI 140',\n",
       " 'POLI 125',\n",
       " 'ANSC 118',\n",
       " 'PHIL 100',\n",
       " 'NANO 111',\n",
       " 'CSE 140L',\n",
       " 'AWP 2B',\n",
       " 'ECON 111',\n",
       " 'LTIT 2A',\n",
       " 'RELI 2',\n",
       " 'DOC 2',\n",
       " 'COGS 153',\n",
       " 'MGT 127',\n",
       " 'MAE 143B',\n",
       " 'HITO 156GS',\n",
       " 'SOCI 160',\n",
       " 'CHIN 10BM',\n",
       " 'VIS 125BN',\n",
       " 'CSE 150B',\n",
       " 'ECE 107',\n",
       " 'LTEU 150C',\n",
       " 'POLI 175',\n",
       " 'COGS 102C',\n",
       " 'SIO 120',\n",
       " 'ANTH 43',\n",
       " 'LTSP 138',\n",
       " 'HIUS 125',\n",
       " 'CHEM 6A',\n",
       " 'ANBI 135',\n",
       " 'POLI 30D',\n",
       " 'CSE 11',\n",
       " 'USP 180',\n",
       " 'LTCS 110',\n",
       " 'BIMM 134',\n",
       " 'COGS 111',\n",
       " 'LTEA 141',\n",
       " 'CSE 5A',\n",
       " 'MGT 183',\n",
       " 'LTTH 115',\n",
       " 'MGT 5',\n",
       " 'ECON 110B',\n",
       " 'PSYC 142',\n",
       " 'LTGM 2B',\n",
       " 'HIEU 137',\n",
       " 'PSYC 172',\n",
       " 'POLI 103A',\n",
       " 'ANBI 143',\n",
       " 'SOCI 109M',\n",
       " 'CHEM 130',\n",
       " 'PSYC 180',\n",
       " 'BENG 193',\n",
       " 'MATH 181B',\n",
       " 'LATI 122C',\n",
       " 'SIO 111',\n",
       " 'CGS 111',\n",
       " 'COGS 188',\n",
       " 'CSE 8A',\n",
       " 'SOCI 156',\n",
       " 'ANSC 105',\n",
       " 'HINE 126',\n",
       " 'LIGN 7',\n",
       " 'PSYC 176',\n",
       " 'MGT 166',\n",
       " 'MGT 137',\n",
       " 'TDHT 104',\n",
       " 'MATH 174',\n",
       " 'SOCI 2',\n",
       " 'COGS 160',\n",
       " 'EDS 126',\n",
       " 'BENG 126B',\n",
       " 'ECE 143',\n",
       " 'COMM 100C',\n",
       " 'VIS 164',\n",
       " 'MATH 181E',\n",
       " 'COMM 102D',\n",
       " 'ANBI 134',\n",
       " 'POLI 140A',\n",
       " 'HISC 107',\n",
       " 'VIS 180A',\n",
       " 'PSYC 185',\n",
       " 'MATH 120A',\n",
       " 'ETHN 116',\n",
       " 'COGS 163',\n",
       " 'COGS 14A',\n",
       " 'ECON 110A',\n",
       " 'SOCI 188G',\n",
       " 'CSS 2',\n",
       " 'BIPN 154',\n",
       " 'CHEM 113',\n",
       " 'COMM 173',\n",
       " 'SOCI 110',\n",
       " 'PSYC 189',\n",
       " 'SOCI 146',\n",
       " 'SE 130B',\n",
       " 'SE 154',\n",
       " 'MATH 109',\n",
       " 'EDS 137',\n",
       " 'ETHN 123',\n",
       " 'EDS 136',\n",
       " 'LIGN 177',\n",
       " 'CGS 2B',\n",
       " 'MATH 121A',\n",
       " 'MUS 12',\n",
       " 'USP 189',\n",
       " 'VIS 185',\n",
       " 'COGS 102A',\n",
       " 'NANO 106',\n",
       " 'VIS 122B',\n",
       " 'MUS 174B',\n",
       " 'ECON 4',\n",
       " 'PHIL 28',\n",
       " 'CSE 141L',\n",
       " 'MAE 130B',\n",
       " 'ENG 100D',\n",
       " 'HDP 191',\n",
       " 'SE 104L',\n",
       " 'COMM 132',\n",
       " 'POLI 126AB',\n",
       " 'SE 143A',\n",
       " 'COGS 187A',\n",
       " 'HIEU 152',\n",
       " 'LTEN 124',\n",
       " 'BIEB 128',\n",
       " 'ANTH 44',\n",
       " 'USP 173',\n",
       " 'ECON 112',\n",
       " 'POLI 142I',\n",
       " 'PHYS 1BL',\n",
       " 'TDGE 25',\n",
       " 'LTEN 154',\n",
       " 'SOCI 50',\n",
       " 'USP 171',\n",
       " 'CAT 2',\n",
       " 'ECON 101',\n",
       " 'ECE 191',\n",
       " 'VIS 107A',\n",
       " 'MAE 126A',\n",
       " 'SOCI 188I',\n",
       " 'MAE 118',\n",
       " 'DSC 100',\n",
       " 'MATH 31CH',\n",
       " 'VIS 127N',\n",
       " 'HIUS 133',\n",
       " 'MMW 11',\n",
       " 'MGT 134',\n",
       " 'HDP 110',\n",
       " 'COGS 13',\n",
       " 'MGT 121A',\n",
       " 'MUS 95L',\n",
       " 'VIS 124E',\n",
       " 'ECE 165',\n",
       " 'MUS 2B',\n",
       " 'POLI 147B',\n",
       " 'ECE 161A',\n",
       " 'SOCI 132',\n",
       " 'COGS 181',\n",
       " 'COGS 184GS',\n",
       " 'LTEN 176',\n",
       " 'SIO 113',\n",
       " 'POLI 100G',\n",
       " 'BIPN 108',\n",
       " 'USP 161',\n",
       " 'PSYC 104',\n",
       " 'BIMM 172',\n",
       " 'ESYS 101',\n",
       " 'ETHN 125',\n",
       " 'POLI 176',\n",
       " 'USP 1',\n",
       " 'HITO 136',\n",
       " 'LTWL 177',\n",
       " 'COMM 103D',\n",
       " 'COMM 112C',\n",
       " 'PHIL 146',\n",
       " 'CSE 20',\n",
       " 'PHIL 120',\n",
       " 'POLI 120C',\n",
       " 'SOCI 138',\n",
       " 'SE 101A',\n",
       " 'ENG 100B',\n",
       " 'POLI 28',\n",
       " 'MATH 158',\n",
       " 'VIS 181',\n",
       " 'GLBH 150',\n",
       " 'MATH 160A',\n",
       " 'PHIL 108',\n",
       " 'SIO 50',\n",
       " 'CSE 132B',\n",
       " 'PHYS 133',\n",
       " 'SOCI 157',\n",
       " 'ECON 117',\n",
       " 'BENG 120',\n",
       " 'MMW 14GS',\n",
       " 'LTWL 184',\n",
       " 'LTEA 110C',\n",
       " 'MAE 130A',\n",
       " 'TDGE 100',\n",
       " 'MATH 171B',\n",
       " 'CHEM 100B',\n",
       " 'VIS 126HN',\n",
       " 'MGT 112',\n",
       " 'POLI 145A',\n",
       " 'MGT 12',\n",
       " 'POLI 30',\n",
       " 'PHIL 155',\n",
       " 'TDMV 5',\n",
       " 'ECE 128C',\n",
       " 'POLI 10D',\n",
       " 'ANTH 23',\n",
       " 'HUM 5',\n",
       " 'BIMM 171A',\n",
       " 'PSYC 71',\n",
       " 'DSC 190',\n",
       " 'MATH 31BH',\n",
       " 'GLBH 150B',\n",
       " 'CHEM 156',\n",
       " 'PSYC 3',\n",
       " 'LTEU 158',\n",
       " 'LTEN 175A',\n",
       " 'PSYC 100',\n",
       " 'ECON 134',\n",
       " 'TDMV 141',\n",
       " 'SOCI 103M',\n",
       " 'SE 171',\n",
       " 'POLI 12',\n",
       " 'SOCI 136F',\n",
       " 'MUS 113',\n",
       " 'USP 3',\n",
       " 'HILA 131',\n",
       " 'ECON 116',\n",
       " 'SIO 174',\n",
       " 'ANBI 100',\n",
       " 'VIS 145A',\n",
       " 'SIO 101',\n",
       " 'COGS 121',\n",
       " 'CSE 105',\n",
       " 'USP 145',\n",
       " 'PHIL 160',\n",
       " 'EDS 129C',\n",
       " 'SIO 16',\n",
       " 'CHIN 20CN',\n",
       " 'HDS 175',\n",
       " 'ECON 136',\n",
       " 'PSYC 194A',\n",
       " 'CSE 169',\n",
       " 'MATH 100A',\n",
       " 'VIS 120B',\n",
       " 'ANSC 184',\n",
       " 'SOCI 124',\n",
       " 'EDS 125',\n",
       " 'LIGN 155',\n",
       " 'GLBH 101',\n",
       " 'MGT 106',\n",
       " 'MGT 18',\n",
       " 'PSYC 144',\n",
       " 'ECON 146',\n",
       " 'POLI 104D',\n",
       " 'COGS 127',\n",
       " 'BIEB 100',\n",
       " 'BIMM 116',\n",
       " 'CHEM 131',\n",
       " 'VIS 103A',\n",
       " 'SOCI 149',\n",
       " 'SE 163',\n",
       " 'BIPN 150',\n",
       " 'COMM 100A',\n",
       " 'VIS 105D',\n",
       " 'ENVR 140',\n",
       " 'ECE 25',\n",
       " 'PSYC 7',\n",
       " 'LIHL 124W',\n",
       " 'SOCI 165A',\n",
       " 'ANBI 130',\n",
       " 'ANSC 175',\n",
       " 'MUS 126',\n",
       " 'PHYS 130B',\n",
       " 'LIGN 113',\n",
       " 'BIMM 120',\n",
       " 'PHIL 1',\n",
       " 'CHIN 10AD',\n",
       " 'MUS 130',\n",
       " 'PSYC 148',\n",
       " 'TDGE 10',\n",
       " 'PSYC 105',\n",
       " 'POLI 130AA',\n",
       " 'ANSC 165',\n",
       " 'ECON 176',\n",
       " 'HIEU 109',\n",
       " 'ANSC 178',\n",
       " 'HIUS 156',\n",
       " 'POLI 130',\n",
       " 'MUS 175',\n",
       " 'LTLA 103',\n",
       " 'ETHN 100B',\n",
       " 'TDMV 130',\n",
       " 'TDMV 1',\n",
       " 'ETHN 182',\n",
       " 'PHYS 163',\n",
       " 'POLI 130G',\n",
       " 'LIGN 121',\n",
       " 'SOCI 158',\n",
       " 'VIS 106A',\n",
       " 'MATH 153',\n",
       " 'HISC 109',\n",
       " 'BICD 100',\n",
       " 'CHIN 20CD',\n",
       " 'MATH 11',\n",
       " 'ANTH 5',\n",
       " 'VIS 165',\n",
       " 'COGS 8',\n",
       " 'RELI 149',\n",
       " 'MAE 150',\n",
       " 'HIEA 150',\n",
       " 'BIEB 126',\n",
       " 'PHYS 2D',\n",
       " 'BICD 123',\n",
       " 'LTEN 149',\n",
       " 'USP 4',\n",
       " 'BILD 70',\n",
       " 'HILA 124A',\n",
       " 'ANTH 105',\n",
       " 'POLI 160AA',\n",
       " 'SOCI 104Q',\n",
       " 'GLBH 20',\n",
       " 'LTKO 2C',\n",
       " 'LIHL 112F',\n",
       " 'SE 1',\n",
       " 'POLI 102D',\n",
       " 'MUS 95E',\n",
       " 'PSYC 166',\n",
       " 'CSE 135',\n",
       " 'VIS 101',\n",
       " 'SOCI 180',\n",
       " 'ETHN 122',\n",
       " 'BIPN 140',\n",
       " 'NANO 148',\n",
       " 'PHYS 12',\n",
       " 'GLBH 102',\n",
       " 'PSYC 191',\n",
       " 'SIO 127',\n",
       " 'USP 143',\n",
       " 'PHIL 102',\n",
       " 'ANSC 149',\n",
       " 'ETHN 129',\n",
       " 'CHIN 10BD',\n",
       " 'ECE 174',\n",
       " 'PSYC 157',\n",
       " 'VIS 135',\n",
       " 'LTEU 154',\n",
       " 'CHEM 126A',\n",
       " 'LIGN 146',\n",
       " 'LTWL 183',\n",
       " 'CSE 127',\n",
       " 'CHEM 157',\n",
       " 'COMM 126',\n",
       " 'VIS 151',\n",
       " 'LTEA 143',\n",
       " 'MUS 101C',\n",
       " 'PHIL 145',\n",
       " 'MUS 33A',\n",
       " 'MAE 113',\n",
       " 'CSE 21',\n",
       " 'EDS 129B',\n",
       " 'COMM 114D',\n",
       " 'BIPN 145',\n",
       " 'HDP 181',\n",
       " 'BIPN 106',\n",
       " 'MUS 120A',\n",
       " 'MUS 171',\n",
       " 'ECON 139',\n",
       " 'MAE 101A',\n",
       " 'SOCI 183',\n",
       " 'CSE 118',\n",
       " 'MATH 100C',\n",
       " 'GLBH 139',\n",
       " 'MATH 193B',\n",
       " 'MATH 130',\n",
       " 'SIO 183',\n",
       " 'LIGN 180',\n",
       " 'CHEM 114B',\n",
       " 'LIHL 114P',\n",
       " 'LTEN 152',\n",
       " 'ECON 121',\n",
       " 'PHIL 111',\n",
       " 'VIS 143',\n",
       " 'FMPH 110',\n",
       " 'ANSC 147',\n",
       " 'DSC 30',\n",
       " 'TDMV 138',\n",
       " 'ANAR 100',\n",
       " 'HDS 122',\n",
       " 'COMM 120W',\n",
       " 'DSC 120',\n",
       " 'BIBC 100',\n",
       " 'HIUS 136',\n",
       " 'CSE 163',\n",
       " 'MATH 170B',\n",
       " 'ETHN 155',\n",
       " 'SE 101C',\n",
       " 'ECON 159',\n",
       " 'LIGN 174',\n",
       " 'MATH 180A',\n",
       " 'VIS 80',\n",
       " 'BENG 166A',\n",
       " 'TDGE 11',\n",
       " 'LTEN 159',\n",
       " 'LIGN 154',\n",
       " 'BENG 187D',\n",
       " 'SIO 15',\n",
       " 'SOCI 162',\n",
       " 'PSYC 161',\n",
       " 'COMM 102C',\n",
       " 'CSE 8B',\n",
       " 'PHIL 175',\n",
       " 'SIO 126',\n",
       " 'CENG 134',\n",
       " 'POLI 127',\n",
       " 'LTRU 1A',\n",
       " 'POLI 153',\n",
       " 'GLBH 105',\n",
       " 'LTWR 119',\n",
       " 'BILD 18',\n",
       " 'ETHN 152',\n",
       " 'ANSC 185',\n",
       " 'PSYC 122',\n",
       " 'LTEN 23',\n",
       " 'PHYS 4A',\n",
       " 'POLI 151',\n",
       " 'BILD 38',\n",
       " 'VIS 177',\n",
       " 'MATH 142A',\n",
       " 'ECE 109',\n",
       " 'PHYS 130A',\n",
       " 'BIPN 100',\n",
       " 'BILD 10',\n",
       " 'MUS 172',\n",
       " 'VIS 122CN',\n",
       " 'SOCI 126',\n",
       " 'POLI 125D',\n",
       " 'CHEM 6B',\n",
       " 'INTL 101',\n",
       " 'LTWL 176',\n",
       " 'CHEM 167',\n",
       " 'LTCS 130',\n",
       " 'PHIL 13',\n",
       " 'MUS 137B',\n",
       " 'VIS 126BN',\n",
       " 'PSYC 194B',\n",
       " 'MUS 6',\n",
       " 'COMM 146',\n",
       " 'SIO 100',\n",
       " 'CHEM 126',\n",
       " 'PHIL 28GS',\n",
       " 'COGS 115',\n",
       " 'SIO 121',\n",
       " 'MATH 140C',\n",
       " 'VIS 84',\n",
       " 'EDS 110R',\n",
       " 'COMM 114J',\n",
       " 'PSYC 138',\n",
       " 'LIGN 101',\n",
       " 'PHYS 100C',\n",
       " 'HIEU 139',\n",
       " 'PHYS 1B',\n",
       " 'FMPH 40',\n",
       " 'HIEA 112',\n",
       " 'ECON 103',\n",
       " 'MATH 110A',\n",
       " 'HINE 119',\n",
       " 'HIUS 126',\n",
       " 'BENG 119A',\n",
       " 'ANBI 131',\n",
       " 'LIGN 120',\n",
       " 'POLI 164',\n",
       " 'MUS 5',\n",
       " 'POLI 13D',\n",
       " 'SE 101B',\n",
       " 'MGT 52',\n",
       " 'ECON 120A',\n",
       " 'CENG 101A',\n",
       " 'LIGN 171',\n",
       " 'CHEM 152',\n",
       " 'HIEU 140',\n",
       " 'MATH 186',\n",
       " 'HIUS 143GS',\n",
       " 'COMM 127',\n",
       " 'PHYS 2B',\n",
       " 'SOCI 172',\n",
       " 'POLI 129',\n",
       " 'ECE 115',\n",
       " 'MAE 2',\n",
       " 'POLI 100W',\n",
       " 'ECON 3',\n",
       " 'COGS 9',\n",
       " 'SOCI 114',\n",
       " 'CSE 107',\n",
       " 'LTWL 181',\n",
       " 'PHIL 177',\n",
       " 'USP 141B',\n",
       " 'HIUS 114B',\n",
       " 'SOCI 40',\n",
       " 'TDMV 140',\n",
       " 'ECE 141A',\n",
       " 'HDP 122',\n",
       " 'VIS 22',\n",
       " 'BICD 140',\n",
       " 'POLI 112A',\n",
       " 'LTEN 22',\n",
       " 'BIPN 120',\n",
       " 'BIMM 114',\n",
       " 'COMM 106C',\n",
       " 'CHIN 10AM',\n",
       " 'HILA 122',\n",
       " 'VIS 183B',\n",
       " 'MAE 120',\n",
       " 'POLI 104I',\n",
       " 'MATH 110',\n",
       " 'MATH 111A',\n",
       " 'SOCI 148E',\n",
       " 'BENG 125',\n",
       " 'SIO 30',\n",
       " 'MGT 103',\n",
       " 'PSYC 164',\n",
       " 'CSE 151A',\n",
       " 'POLI 103B',\n",
       " 'HILD 7A',\n",
       " 'PHIL 138',\n",
       " 'LTWL 19B',\n",
       " 'POLI 104L',\n",
       " 'MATH 163',\n",
       " 'POLI 136',\n",
       " 'LTEU 105',\n",
       " 'CSE 167',\n",
       " 'WCWP 10A',\n",
       " 'JAPN 190',\n",
       " 'COMM 190',\n",
       " 'ECE 153',\n",
       " 'CENG 120',\n",
       " 'BIMM 122',\n",
       " 'PHIL 110',\n",
       " 'SIO 40',\n",
       " 'HILA 144',\n",
       " 'SIO 133',\n",
       " 'ECON 120B',\n",
       " 'COGS 122',\n",
       " 'LTEA 110A',\n",
       " 'ANAR 155',\n",
       " 'PHIL 137',\n",
       " 'HIEA 132',\n",
       " 'LTWL 172',\n",
       " 'PHIL 168',\n",
       " 'BICD 112',\n",
       " 'CSE 185',\n",
       " 'ETHN 101',\n",
       " 'ANAR 154',\n",
       " 'POLI 133A',\n",
       " 'USP 170',\n",
       " 'POLI 5D',\n",
       " 'LIGN 130',\n",
       " 'BICD 102',\n",
       " 'POLI 104B',\n",
       " 'COMM 120M',\n",
       " 'ETHN 121',\n",
       " 'EDS 25',\n",
       " 'VIS 30',\n",
       " 'COGS 3',\n",
       " 'CHIN 10BN',\n",
       " 'USP 124',\n",
       " 'HINE 109',\n",
       " 'PSYC 152',\n",
       " 'LTEN 158',\n",
       " 'VIS 183A',\n",
       " 'ECE 100',\n",
       " 'MAE 131B',\n",
       " 'SOCI 165',\n",
       " 'ECE 161B',\n",
       " 'PHYS 110A',\n",
       " 'CENG 176B',\n",
       " 'MATH 20A',\n",
       " 'SE 131A',\n",
       " 'WCWP 100',\n",
       " 'PSYC 60',\n",
       " 'SE 182',\n",
       " 'SOCI 70',\n",
       " 'JAPN 130A',\n",
       " 'VIS 149',\n",
       " 'HILA 121A',\n",
       " 'CHEM 111',\n",
       " 'ETHN 119',\n",
       " 'PHIL 161',\n",
       " 'MATH 168A',\n",
       " 'HILA 100',\n",
       " 'TDMV 146',\n",
       " 'TDTR 20',\n",
       " 'LIGN 160',\n",
       " 'MATH 193A',\n",
       " 'HILA 101',\n",
       " 'ECE 188',\n",
       " 'SIO 134',\n",
       " 'COMM 101D',\n",
       " 'CSE 132C',\n",
       " 'MAE 101B',\n",
       " 'MGT 121B',\n",
       " 'HIEU 116A',\n",
       " 'SOCI 145',\n",
       " 'SOCI 130',\n",
       " 'HILD 2C',\n",
       " 'HIUS 117',\n",
       " 'SE 181',\n",
       " 'TDGE 127',\n",
       " 'HIUS 152A',\n",
       " 'HIEA 137',\n",
       " 'MAE 130C',\n",
       " 'BIMM 100',\n",
       " 'PSYC 2',\n",
       " 'HILA 121B',\n",
       " 'COGS 102B',\n",
       " 'ECON 102',\n",
       " 'PHYS 4E',\n",
       " 'POLI 170A',\n",
       " 'ECE 164',\n",
       " 'TDHT 109',\n",
       " 'SOCI 131',\n",
       " 'PHIL 14',\n",
       " 'RELI 157GS',\n",
       " 'CHEM 120B',\n",
       " 'TDAC 112',\n",
       " 'MATH 152',\n",
       " 'SOCI 122',\n",
       " 'BENG 112B',\n",
       " 'PHIL 132',\n",
       " 'POLI 174',\n",
       " 'BIEB 154',\n",
       " 'MUS 137A',\n",
       " 'ENVR 102',\n",
       " 'MGT 162',\n",
       " 'MUS 95W',\n",
       " 'TDMV 3',\n",
       " 'ANSC 144',\n",
       " 'TDAC 108',\n",
       " 'ANBI 173',\n",
       " 'LIHL 114F',\n",
       " 'LTEA 120A',\n",
       " 'POLI 134',\n",
       " 'LTFR 2A',\n",
       " 'LTWL 19C',\n",
       " 'COGS 164',\n",
       " 'ECE 175A',\n",
       " 'POLI 100X',\n",
       " 'POLI 140C',\n",
       " 'LTKO 1C',\n",
       " 'PHIL 163',\n",
       " 'USP 5',\n",
       " 'COMM 106A',\n",
       " 'ECON 151',\n",
       " 'PHYS 2CL',\n",
       " 'LTEA 132',\n",
       " 'COGS 2',\n",
       " 'DSGN 160',\n",
       " 'ANAR 114',\n",
       " 'VIS 125C',\n",
       " 'POLI 120D',\n",
       " 'CHEM 143C',\n",
       " 'LTRU 1C',\n",
       " 'MUS 8',\n",
       " 'MATH 20B',\n",
       " 'SOCI 121',\n",
       " 'TWS 21',\n",
       " 'PSYC 145',\n",
       " 'MMW 122',\n",
       " 'PSYC 81',\n",
       " 'ECE 30',\n",
       " 'SE 160B',\n",
       " 'TDHT 23',\n",
       " 'EDS 129A',\n",
       " 'MAE 21',\n",
       " 'SOCI 135',\n",
       " 'LTEN 127',\n",
       " 'MGT 3',\n",
       " 'MUS 101B',\n",
       " 'ECON 145',\n",
       " 'POLI 142A',\n",
       " 'SOCI 129',\n",
       " 'BENG 134',\n",
       " 'VIS 105B',\n",
       " 'LIHL 119P',\n",
       " 'HILD 30',\n",
       " 'ANSC 190',\n",
       " 'SOCI 127',\n",
       " 'BILD 60',\n",
       " 'CHEM 11',\n",
       " 'PHYS 124',\n",
       " 'PSYC 116A',\n",
       " 'LIHL 117W',\n",
       " 'COGS 119',\n",
       " 'LTWR 126',\n",
       " 'ANSC 139',\n",
       " 'POLI 134AA',\n",
       " 'HIEU 146',\n",
       " 'MAE 108',\n",
       " 'MAE 154',\n",
       " 'SIO 35',\n",
       " 'HILD 2B',\n",
       " 'VIS 124F',\n",
       " 'LIHL 119F',\n",
       " 'COGS 189',\n",
       " 'BIEB 102',\n",
       " 'LTEU 141',\n",
       " 'PHYS 8',\n",
       " 'PHIL 124',\n",
       " 'CHEM 116',\n",
       " 'MUS 13',\n",
       " 'SE 105',\n",
       " 'CSE 180',\n",
       " 'VIS 41',\n",
       " 'MGT 167',\n",
       " 'SOCI 184',\n",
       " 'VIS 152D',\n",
       " 'BIEB 143',\n",
       " 'BENG 123',\n",
       " 'MATH 173B',\n",
       " 'COMM 105G',\n",
       " 'VIS 11',\n",
       " 'HIUS 108B',\n",
       " 'MUS 150',\n",
       " 'PSYC 147',\n",
       " 'PHYS 151',\n",
       " 'SE 151B',\n",
       " 'CSE 100',\n",
       " 'PSYC 129',\n",
       " 'MAE 8',\n",
       " 'COGS 101A',\n",
       " 'GLBH 141',\n",
       " 'ANAR 164',\n",
       " 'COMM 145',\n",
       " 'LTLA 1',\n",
       " 'MGT 129',\n",
       " 'CHIN 10CM',\n",
       " 'SE 3',\n",
       " 'BENG 2',\n",
       " 'LIGN 150',\n",
       " 'POLI 115A',\n",
       " 'BENG 186B',\n",
       " 'GLBH 147',\n",
       " 'SIO 12',\n",
       " 'BENG 179A',\n",
       " 'COMM 176',\n",
       " 'ETHN 139',\n",
       " 'SIO 137',\n",
       " 'VIS 171',\n",
       " 'PHYS 1CL',\n",
       " 'MUS 20',\n",
       " 'HISC 115',\n",
       " 'ETHN 104',\n",
       " 'TDMV 142',\n",
       " 'BICD 156',\n",
       " 'TDAC 107',\n",
       " 'GLBH 160',\n",
       " 'PSYC 111A',\n",
       " 'ANBI 141',\n",
       " 'ECE 171B',\n",
       " 'PHYS 140A',\n",
       " 'SOCI 181',\n",
       " 'PSYC 70',\n",
       " 'ETHN 106',\n",
       " 'SIO 102',\n",
       " 'EDS 124AR',\n",
       " 'MAE 131A',\n",
       " 'CHEM 40C',\n",
       " 'HIUS 152B',\n",
       " 'MUS 1C',\n",
       " 'HILD 10',\n",
       " 'MATH 102',\n",
       " 'ETHN 151',\n",
       " 'SIO 170',\n",
       " 'ETHN 179',\n",
       " 'SE 160A',\n",
       " 'ETHN 3',\n",
       " 'USP 177A',\n",
       " 'CHEM 120A',\n",
       " 'LTEA 142',\n",
       " 'LTRU 2A',\n",
       " 'SOCI 100',\n",
       " 'POLI 100I',\n",
       " 'MGT 153',\n",
       " 'MAE 110A',\n",
       " 'PSYC 154',\n",
       " 'VIS 127B',\n",
       " 'TDGE 5',\n",
       " 'MATH 20E',\n",
       " 'ERC 192A',\n",
       " ...}"
      ]
     },
     "execution_count": 42,
     "metadata": {},
     "output_type": "execute_result"
    }
   ],
   "source": [
    "set(df['course'])"
   ]
  },
  {
   "cell_type": "code",
   "execution_count": null,
   "metadata": {},
   "outputs": [],
   "source": []
  }
 ],
 "metadata": {
  "interpreter": {
   "hash": "b9ca882e21832ab266a2bfac75491ff12b9b7faebce445bad06ab7fc889208fb"
  },
  "kernelspec": {
   "display_name": "Python 3.9.5 ('ece229')",
   "language": "python",
   "name": "python3"
  },
  "language_info": {
   "codemirror_mode": {
    "name": "ipython",
    "version": 3
   },
   "file_extension": ".py",
   "mimetype": "text/x-python",
   "name": "python",
   "nbconvert_exporter": "python",
   "pygments_lexer": "ipython3",
   "version": "3.9.5"
  },
  "orig_nbformat": 4
 },
 "nbformat": 4,
 "nbformat_minor": 2
}
